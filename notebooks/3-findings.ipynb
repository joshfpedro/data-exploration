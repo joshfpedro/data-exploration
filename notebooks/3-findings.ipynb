{
 "cells": [
  {
   "cell_type": "markdown",
   "id": "a8caaee7",
   "metadata": {},
   "source": [
    "### Findings Summary\n",
    "\n",
    "let's summarize what we've found from our initial analysis:"
   ]
  }
 ],
 "metadata": {
  "language_info": {
   "name": "python"
  }
 },
 "nbformat": 4,
 "nbformat_minor": 5
}
