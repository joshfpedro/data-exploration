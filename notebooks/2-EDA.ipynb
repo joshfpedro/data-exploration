{
 "cells": [
  {
   "cell_type": "markdown",
   "id": "3e1deae6",
   "metadata": {},
   "source": [
    "### Exploratory Data Analysis (EDA)\n",
    "Now that we've cleaned the data, let's do some analysis to address our original question: \"What are the characteristics of the customers who register for the term deposit account?\"\n",
    "\n",
    "We will divide our data into categorical and numeric and proceed in this way."
   ]
  }
 ],
 "metadata": {
  "language_info": {
   "name": "python"
  }
 },
 "nbformat": 4,
 "nbformat_minor": 5
}
