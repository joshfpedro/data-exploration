{
 "cells": [
  {
   "cell_type": "markdown",
   "metadata": {},
   "source": [
    "<div id=\"container\" style=\"position:relative;\">\n",
    "<div style=\"float:left\"><h1> Data Prep and Exploration</h1></div>"
   ]
  },
  {
   "cell_type": "markdown",
   "metadata": {},
   "source": [
    "\n",
    "\n",
    "Data preparation and exploratory data analysis (EDA) are two processes that go hand in hand.\n",
    "\n",
    "Before we can carry out any real meaningful analysis using data we must always go through the process of making sure our dataset is clean and fit for purpose. We can then begin exploring the data itself to build initial intuition about the trends contained within the data that could help us answer further questions or guide us other downstream tasks such as modeling. \n",
    "\n",
    "In this codealong we will go through the process of preparing and exploring a new dataset. Our aim is to build comfort using Pandas to clean data and develop a framework we can use whenever we need to clean data.  \n",
    "\n",
    "### Dataset\n",
    "\n",
    "We will be using a real world bank marketing dataset. The dataset contains information about customers who were contacted as part of a telephone marketing campaign trying to get customers to sign up for a term deposit product. The dataset also contains information about whether the customer has been contacted as part of the current marketing campaign or had been as part of a previous campaign. \n",
    "\n",
    "#### Data Dictionary\n",
    "\n",
    "To help us with our analysis, take some time to study the data dictionary below. \n",
    "\n",
    "Demographic & client data:\n",
    "- age (numeric)\n",
    "- job (categorical)\n",
    "- marital: marital status (categorical, note: 'divorced' means divorced or widowed)\n",
    "- education (categorical)\n",
    "- credit_in_default: has credit in default? (categorical)\n",
    "- housing_loan: has housing loan? (categorical)\n",
    "- personal_loan: has personal loan? (categorical)\n",
    "\n",
    "Data about the calls from *this* campaign:\n",
    "- last_contact_type: contact communication type (categorical)\n",
    "- last_contact_month: last contact month of year (categorical)\n",
    "- last_contact_day: last contact day of the week (categorical)\n",
    "- last_contact_duration: last contact duration, in seconds (numeric)\n",
    "- last_contact_duration_mins: last contact duration, in minutes (numeric)\n",
    "- n_contacts_this_campaign: number of contacts performed during this campaign and for this client (numeric, includes last contact)\n",
    "\n",
    "Data about calls from *previous* campaigns:\n",
    "- n_contacts_prev_campaign: number of contacts performed before this campaign and for this client (numeric)\n",
    "- prev_campaign_outcome: outcome of the previous marketing campaign (categorical)\n",
    "\n",
    "Field of interest:\n",
    "- registered: has the client registered for a term deposit?\n",
    "\n",
    "### Question of interest\n",
    "\n",
    "Imagine we work as a data analyst/scientist within the marketing department of the bank which owns this data. Our manger asks us to investigate the following: \n",
    "\n",
    "> How do customers who registered for the term deposit product differ from those who did not? This can be in terms of customer demographics or in terms of features of the current and prior marketing campaign. \n"
   ]
  },
  {
   "cell_type": "code",
   "execution_count": null,
   "metadata": {},
   "outputs": [],
   "source": []
  },
  {
   "cell_type": "code",
   "execution_count": null,
   "metadata": {},
   "outputs": [],
   "source": []
  },
  {
   "cell_type": "code",
   "execution_count": null,
   "metadata": {},
   "outputs": [],
   "source": []
  },
  {
   "cell_type": "markdown",
   "metadata": {},
   "source": [
    "### Data Cleaning\n",
    "\n",
    "The bank has provided us with this snapshot of demographic and campaign data related to the term deposit product. First, let's read in the data and take a look at what we're working with, and assess the level of cleaning and preprocessing that needs to be done."
   ]
  },
  {
   "cell_type": "code",
   "execution_count": null,
   "metadata": {},
   "outputs": [],
   "source": []
  },
  {
   "cell_type": "code",
   "execution_count": null,
   "metadata": {},
   "outputs": [],
   "source": []
  },
  {
   "cell_type": "code",
   "execution_count": null,
   "metadata": {},
   "outputs": [],
   "source": []
  },
  {
   "cell_type": "markdown",
   "metadata": {},
   "source": [
    "### Exploratory Data Analysis (EDA)\n",
    "Now that we've cleaned the data, let's do some analysis to address our original question: \"What are the characteristics of the customers who register for the term deposit account?\"\n",
    "\n",
    "We will divide our data into categorical and numeric and proceed in this way."
   ]
  },
  {
   "cell_type": "code",
   "execution_count": null,
   "metadata": {},
   "outputs": [],
   "source": []
  },
  {
   "cell_type": "code",
   "execution_count": null,
   "metadata": {},
   "outputs": [],
   "source": []
  },
  {
   "cell_type": "code",
   "execution_count": null,
   "metadata": {},
   "outputs": [],
   "source": []
  },
  {
   "cell_type": "markdown",
   "metadata": {},
   "source": [
    "### Findings Summary\n",
    "\n",
    "let's summarize what we've found from our initial analysis:"
   ]
  },
  {
   "cell_type": "code",
   "execution_count": null,
   "metadata": {},
   "outputs": [],
   "source": []
  },
  {
   "cell_type": "code",
   "execution_count": null,
   "metadata": {},
   "outputs": [],
   "source": []
  },
  {
   "cell_type": "code",
   "execution_count": null,
   "metadata": {},
   "outputs": [],
   "source": []
  },
  {
   "cell_type": "markdown",
   "metadata": {},
   "source": [
    "### Saving the data\n",
    "\n",
    "Now that we have spent the time cleaning and exploring this dataset. We are going to save it down to file for now. In a short while, we will be using our cleaned dataset to carry out some modeling work to learn more about the customer characteristics which drive product registration! To be continued.... "
   ]
  },
  {
   "cell_type": "code",
   "execution_count": null,
   "metadata": {},
   "outputs": [],
   "source": []
  },
  {
   "cell_type": "code",
   "execution_count": null,
   "metadata": {},
   "outputs": [],
   "source": []
  },
  {
   "cell_type": "code",
   "execution_count": null,
   "metadata": {},
   "outputs": [],
   "source": []
  }
 ],
 "metadata": {
  "kernelspec": {
   "display_name": "Python 3 (ipykernel)",
   "language": "python",
   "name": "python3"
  },
  "language_info": {
   "codemirror_mode": {
    "name": "ipython",
    "version": 3
   },
   "file_extension": ".py",
   "mimetype": "text/x-python",
   "name": "python",
   "nbconvert_exporter": "python",
   "pygments_lexer": "ipython3",
   "version": "3.8.8"
  }
 },
 "nbformat": 4,
 "nbformat_minor": 4
}
